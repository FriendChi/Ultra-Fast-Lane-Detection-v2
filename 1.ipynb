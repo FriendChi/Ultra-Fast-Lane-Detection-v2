{
 "cells": [
  {
   "cell_type": "code",
   "execution_count": 1,
   "metadata": {},
   "outputs": [
    {
     "name": "stdout",
     "output_type": "stream",
     "text": [
      "torch.Size([1, 512, 25, 10])\n"
     ]
    }
   ],
   "source": [
    "from model.backbone import resnet\n",
    "import torch\n",
    "\n",
    "input_tensor = torch.randn(1, 3, 800, 320)\n",
    "model = resnet('18')\n",
    "outputs = model(input_tensor)\n",
    "\n",
    "print(outputs[-1].shape)"
   ]
  }
 ],
 "metadata": {
  "kernelspec": {
   "display_name": "DL",
   "language": "python",
   "name": "python3"
  },
  "language_info": {
   "codemirror_mode": {
    "name": "ipython",
    "version": 3
   },
   "file_extension": ".py",
   "mimetype": "text/x-python",
   "name": "python",
   "nbconvert_exporter": "python",
   "pygments_lexer": "ipython3",
   "version": "3.9.13"
  }
 },
 "nbformat": 4,
 "nbformat_minor": 2
}
