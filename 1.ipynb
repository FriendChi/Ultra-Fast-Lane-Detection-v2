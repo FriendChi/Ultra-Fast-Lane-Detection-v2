{
 "cells": [
  {
   "cell_type": "code",
   "execution_count": 1,
   "metadata": {},
   "outputs": [
    {
     "name": "stdout",
     "output_type": "stream",
     "text": [
      "12 4\n",
      "12 7\n",
      "12 4\n",
      "12 7\n",
      "12 4\n",
      "12 7\n",
      "12 4\n"
     ]
    }
   ],
   "source": [
    "# k=3\n",
    "# s=2\n",
    "for k in [3,5,7,9]:\n",
    "    for s in range(0,10):\n",
    "        for p in range(0,9):\n",
    "            try:\n",
    "                w=(25-k+2*(p))//s+1\n",
    "                h=(10-k+2*(p))//s+1\n",
    "                if w == 12:\n",
    "                    print(w,h)\n",
    "            except:\n",
    "                pass"
   ]
  },
  {
   "cell_type": "code",
   "execution_count": 2,
   "metadata": {},
   "outputs": [
    {
     "name": "stdout",
     "output_type": "stream",
     "text": [
      "torch.Size([1, 128, 12, 4])\n"
     ]
    }
   ],
   "source": [
    "from model.backbone import Conv\n",
    "import torch\n",
    "\n",
    "input_tensor = torch.randn(1, 128, 25, 10)\n",
    "model = Conv(128,128,3,2,0)\n",
    "outputs = model(input_tensor)\n",
    "\n",
    "print(outputs.shape)"
   ]
  },
  {
   "cell_type": "code",
   "execution_count": 1,
   "metadata": {},
   "outputs": [
    {
     "name": "stdout",
     "output_type": "stream",
     "text": [
      "torch.Size([1, 16, 400, 160])\n",
      "torch.Size([1, 32, 400, 160])\n",
      "torch.Size([1, 128, 200, 80])\n",
      "3 torch.Size([1, 256, 100, 40])\n",
      "4 torch.Size([1, 512, 50, 20])\n",
      "5 torch.Size([1, 1024, 25, 10])\n"
     ]
    }
   ],
   "source": [
    "from model.backbone import resnet\n",
    "import torch\n",
    "\n",
    "input_tensor = torch.randn(1, 3, 800, 320)\n",
    "model = resnet('18')\n",
    "outputs = model(input_tensor)\n",
    "\n",
    "# print(outputs[-1].shape)"
   ]
  },
  {
   "cell_type": "markdown",
   "metadata": {},
   "source": []
  }
 ],
 "metadata": {
  "kernelspec": {
   "display_name": "DL",
   "language": "python",
   "name": "python3"
  },
  "language_info": {
   "codemirror_mode": {
    "name": "ipython",
    "version": 3
   },
   "file_extension": ".py",
   "mimetype": "text/x-python",
   "name": "python",
   "nbconvert_exporter": "python",
   "pygments_lexer": "ipython3",
   "version": "3.9.13"
  }
 },
 "nbformat": 4,
 "nbformat_minor": 2
}
